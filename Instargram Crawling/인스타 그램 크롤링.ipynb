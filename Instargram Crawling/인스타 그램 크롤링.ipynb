{
 "cells": [
  {
   "cell_type": "markdown",
   "metadata": {},
   "source": [
    "# 인스타 그램 크롤링"
   ]
  },
  {
   "cell_type": "code",
   "execution_count": 1,
   "metadata": {},
   "outputs": [],
   "source": [
    "!python --version"
   ]
  },
  {
   "cell_type": "code",
   "execution_count": 2,
   "metadata": {
    "scrolled": true
   },
   "outputs": [
    {
     "data": {
      "text/plain": [
       "'C:\\\\Users\\\\USER\\\\Desktop\\\\python'"
      ]
     },
     "execution_count": 2,
     "metadata": {},
     "output_type": "execute_result"
    }
   ],
   "source": [
    "pwd  # 현재 작업하고 있는 위치 파악, "
   ]
  },
  {
   "cell_type": "markdown",
   "metadata": {},
   "source": [
    "실행시키는 파일 내부에 data(excel 저장 위치), image(크롤링한 그림 정장 위치) 폴더가 있어야 코드가 작동"
   ]
  },
  {
   "cell_type": "code",
   "execution_count": 3,
   "metadata": {},
   "outputs": [],
   "source": [
    "import pandas as pd  # 판다스 - 데이터프레임(엑셀)\n",
    "import numpy as np   # 넘파이 - 수학 연산"
   ]
  },
  {
   "cell_type": "code",
   "execution_count": 4,
   "metadata": {},
   "outputs": [],
   "source": [
    "# 라이브러리 import\n",
    "# 라이브러리 : 필요한 도구\n",
    "from selenium import webdriver  # 라이브러리(모듈) 가져오라\n",
    "from selenium.webdriver import ActionChains as AC\n",
    "from tqdm import tqdm\n",
    "from tqdm import tqdm_notebook\n",
    "import re\n",
    "from time import sleep\n",
    "import time"
   ]
  },
  {
   "cell_type": "code",
   "execution_count": 5,
   "metadata": {},
   "outputs": [
    {
     "data": {
      "text/plain": [
       "'음식'"
      ]
     },
     "execution_count": 5,
     "metadata": {},
     "output_type": "execute_result"
    }
   ],
   "source": [
    "# 데이터 수집할 키워드 지정\n",
    "keywords = [\"음식\"]\n",
    "keywords[0]"
   ]
  },
  {
   "cell_type": "code",
   "execution_count": 6,
   "metadata": {},
   "outputs": [],
   "source": [
    "# 크롬창 띄우기\n",
    "driver = webdriver.Chrome(\"C:/Users/USER/Desktop/python/chromedriver.exe\")  # 크롬 드라이버 로드\n",
    "driver.get(\"https://www.instagram.com/explore/tags/%EC%9D%8C%EC%8B%9D/\")  # \"인스타에서 음식\" 검색\n",
    "time.sleep(5)"
   ]
  },
  {
   "cell_type": "markdown",
   "metadata": {},
   "source": [
    "크롬에서 인스타를 띄웠을때 로그인을 해야함"
   ]
  },
  {
   "cell_type": "code",
   "execution_count": 7,
   "metadata": {},
   "outputs": [],
   "source": [
    "# ### html이 제대로 사용되었는지 따로 떼서 확인 해보기 ###\n",
    "\n",
    "# target_info = {}      \n",
    "\n",
    "# overlays1 = \"._2dDPU.vCf6V .FFVAD\"                   # 사진창 속 사진의 html element (이때 띄어쓰기는 . 으로 표현된다, )   \n",
    "# img = driver.find_element_by_css_selector(overlays1)    # 사진 선택\n",
    "# pic = img.get_attribute('src')                          # get_attribute는 ()내의 글자가 지칭하고 있는 값을 html에서 불러와서 사용한다. 여기서는 사진의 src 주소를 html에서 불러와서 사용하고 있음.\n",
    "# target_info['picture'] = pic                            # target_info 라는 딕셔너리에 'picture'라는 이름으로 저장\n",
    "# print(target_info)\n"
   ]
  },
  {
   "cell_type": "code",
   "execution_count": 8,
   "metadata": {},
   "outputs": [
    {
     "name": "stdout",
     "output_type": "stream",
     "text": [
      "0  새마을쫄면분식\n",
      "1  afuri instanoodle ramen l4l f4f fff tflers\n",
      "3 \n",
      "4 \n",
      "5 \n",
      "6  연어 온더테이블 홈카페 점심 일상 감성 일상스타그램 요리 먹스타그램 음식 사진 요리스타그램 다이어터 식단일기 다이어트 식단 다이어트식단 건강식 주말 daily homecooking foodstyling onthetable plating lunch salomon instafood healthyfood cooking avocado\n",
      "7  홈쿡 집밥 요리 푸드스타그램 메뉴 샘표로부터소정의적립금을받았습니다 음식 맛스타그램 새댁요리 디저트 비오는날 집스타그램 온더테이블 위드테이블 테이블 인테리어 연두 연두순 연두의집밥 onthetable homecook cooking table koreafood foodstagram foodie\n",
      "9  홍대개미 덮밥 먹스타그램 맛스타그램 푸드스타그램 먹스타 맛스타 맛점 먹방스타그램 먹방 인스타푸드 음식스타그램 음식 맛집 먹부림 먹스타 먹방그램 냠냠 일상 일상스타그램 푸드 food foodstagram foodpics instafood jmt 옴뇸뇸 존맛 짱맛\n",
      "10  선물 여친선물 보테가베네타 부츠 보테가 남친선물\n",
      "11  태안 안면도 안면암 바베큐 펜션 수영장 음식 볼거리 광명 비속을뚫고 숫불매운등갈비 태풍\n",
      "12  맛스타그램 먹스타그램 선팔하면맞팔 음식 음식스타그램\n",
      "13  상무초밥\n",
      "14  맛점\n",
      "15  선물 여친선물 보테가베네타 부츠 보테가 남친선물\n",
      "16  맛집스타그램 05년생 음식\n",
      "17  초당순두부 두부 순두부 두부전골 손두부 부드럽다 녹는다 덜담백 추천 강릉맛집 가볼만한맛집 내부 깔끔 정돈 먹스타그램 맛스타그램 음식 Food 좋반 좋아요반사 좋아요 눌러주세요 좋반가요 선팔환영 선팔맞팔\n",
      "18  초당옥수수 마켓컬리 간식 푸드 음식 혼점 다이어트 옥수수\n",
      "19  밥상일기 버섯크림리조또 우니테이블\n",
      "{0: {'picture': 'https://scontent-ssn1-1.cdninstagram.com/v/t51.2885-15/e35/s1080x1080/117170013_122038912642511_6850444355815075075_n.jpg?_nc_ht=scontent-ssn1-1.cdninstagram.com&_nc_cat=111&_nc_ohc=xpimPR4GVtAAX9tLlyz&oh=3b97ac885da1d5a93a66767f417aa022&oe=5F5B3726', 'date': '2020년 8월 10일', 'like': '좋아요 253개', 'tag': ' 새마을쫄면분식'}, 1: {'picture': 'https://scontent-ssn1-1.cdninstagram.com/v/t51.2885-15/e35/s1080x1080/117315282_332783927906030_1828057854773711336_n.jpg?_nc_ht=scontent-ssn1-1.cdninstagram.com&_nc_cat=102&_nc_ohc=9_xoXOY9s4IAX_7GFV6&oh=27e9be53337374568dc763e301ac318c&oe=5F5C2F2B', 'date': '2020년 8월 10일', 'like': '좋아요 118개', 'tag': ' afuri instanoodle ramen l4l f4f fff tflers'}, 3: {'picture': 'https://scontent-ssn1-1.cdninstagram.com/v/t51.2885-15/e35/s1080x1080/117431039_2683020498646386_5726010456783177975_n.jpg?_nc_ht=scontent-ssn1-1.cdninstagram.com&_nc_cat=106&_nc_ohc=dTy0nAHhAGsAX8vIj3V&oh=5da7f7e96eaf12ad1a3a1e56b5456aba&oe=5F5B9F8D', 'date': '2020년 8월 9일', 'like': '좋아요 817개', 'tag': ''}, 4: {'picture': 'https://scontent-ssn1-1.cdninstagram.com/v/t51.2885-15/e35/s1080x1080/117161215_780469256058309_8255439148728811196_n.jpg?_nc_ht=scontent-ssn1-1.cdninstagram.com&_nc_cat=109&_nc_ohc=_15hnx2qJRMAX_Mv7Q5&oh=ced58cf7231de03a46bfab0541990302&oe=5F5A58F8', 'date': '2020년 8월 9일', 'like': '좋아요 462개', 'tag': ''}, 5: {'picture': 'https://scontent-ssn1-1.cdninstagram.com/v/t51.2885-15/e35/s1080x1080/117224753_2781246085427220_8880790751602513056_n.jpg?_nc_ht=scontent-ssn1-1.cdninstagram.com&_nc_cat=100&_nc_ohc=S8xR8KaWYMYAX_66p_7&oh=41a53b164c4b912ffe01df6b3aa5c7e1&oe=5F5CDF63', 'date': '2020년 8월 10일', 'like': '좋아요 128개', 'tag': ''}, 6: {'picture': 'https://scontent-ssn1-1.cdninstagram.com/v/t51.2885-15/e35/s1080x1080/117393714_102879914836842_8427915203856959442_n.jpg?_nc_ht=scontent-ssn1-1.cdninstagram.com&_nc_cat=106&_nc_ohc=hTEeh_q92MUAX8gPdfp&oh=5c8f55004b761d316a9690d7242e98e6&oe=5F5CE26B', 'date': '2020년 8월 9일', 'like': '좋아요 480개', 'tag': ' 연어 온더테이블 홈카페 점심 일상 감성 일상스타그램 요리 먹스타그램 음식 사진 요리스타그램 다이어터 식단일기 다이어트 식단 다이어트식단 건강식 주말 daily homecooking foodstyling onthetable plating lunch salomon instafood healthyfood cooking avocado'}, 7: {'picture': 'https://scontent-ssn1-1.cdninstagram.com/v/t51.2885-15/e35/s1080x1080/117392461_909711262851109_8278045260535432594_n.jpg?_nc_ht=scontent-ssn1-1.cdninstagram.com&_nc_cat=101&_nc_ohc=kawnvYNGwH4AX-AeC-L&oh=049e6f02541ed7089a84f354aad55755&oe=5F5BB2B2', 'date': '2020년 8월 9일', 'like': '좋아요 1,082개', 'tag': ' 홈쿡 집밥 요리 푸드스타그램 메뉴 샘표로부터소정의적립금을받았습니다 음식 맛스타그램 새댁요리 디저트 비오는날 집스타그램 온더테이블 위드테이블 테이블 인테리어 연두 연두순 연두의집밥 onthetable homecook cooking table koreafood foodstagram foodie'}, 9: {'picture': 'https://scontent-ssn1-1.cdninstagram.com/v/t51.2885-15/e35/s1080x1080/117359323_618597158855550_5157315753508006817_n.jpg?_nc_ht=scontent-ssn1-1.cdninstagram.com&_nc_cat=106&_nc_ohc=cyttCXWJyoIAX-K1k_V&oh=8d3d0655a69b62306e4a9cef7fce84a5&oe=5F5AA7E8', 'date': '2020년 8월 11일', 'like': '좋아요 2개', 'tag': ' 홍대개미 덮밥 먹스타그램 맛스타그램 푸드스타그램 먹스타 맛스타 맛점 먹방스타그램 먹방 인스타푸드 음식스타그램 음식 맛집 먹부림 먹스타 먹방그램 냠냠 일상 일상스타그램 푸드 food foodstagram foodpics instafood jmt 옴뇸뇸 존맛 짱맛'}, 10: {'picture': 'https://scontent-ssn1-1.cdninstagram.com/v/t51.2885-15/e35/s1080x1080/117130414_182175613318809_7271984536953740686_n.jpg?_nc_ht=scontent-ssn1-1.cdninstagram.com&_nc_cat=109&_nc_ohc=5cjz6L5fQfEAX-tj5oJ&oh=eca55e43bd0907ef94e8c67c31b626c9&oe=5F5B2C66', 'date': '2020년 8월 11일', 'like': '좋아요 1개', 'tag': ' 선물 여친선물 보테가베네타 부츠 보테가 남친선물'}, 11: {'picture': 'https://scontent-ssn1-1.cdninstagram.com/v/t51.2885-15/e35/117405193_611847046429887_7725949660067312135_n.jpg?_nc_ht=scontent-ssn1-1.cdninstagram.com&_nc_cat=103&_nc_ohc=buMAox6Z70cAX8C1y2u&oh=1d203495938682086ac50b5111326cc4&oe=5F5A2279', 'date': '2020년 8월 11일', 'like': '좋아요 1개', 'tag': ' 태안 안면도 안면암 바베큐 펜션 수영장 음식 볼거리 광명 비속을뚫고 숫불매운등갈비 태풍'}, 12: {'picture': 'https://scontent-ssn1-1.cdninstagram.com/v/t51.2885-15/e35/s1080x1080/117224315_751400825606700_7314388848689277474_n.jpg?_nc_ht=scontent-ssn1-1.cdninstagram.com&_nc_cat=100&_nc_ohc=yzQhW9DcpvAAX_tOfTr&oh=0dafed4252e00d9795350d74cad54bff&oe=5F5D49DB', 'date': '2020년 8월 11일', 'like': '좋아요 2개', 'tag': ' 맛스타그램 먹스타그램 선팔하면맞팔 음식 음식스타그램'}, 13: {'picture': 'https://scontent-ssn1-1.cdninstagram.com/v/t51.2885-15/e35/s1080x1080/117334734_421300782386911_7538256565943860064_n.jpg?_nc_ht=scontent-ssn1-1.cdninstagram.com&_nc_cat=107&_nc_ohc=dvF-4NDmj8gAX_hFy2D&oh=1c8b8c14a27b938925684db1c033e0ec&oe=5F5C0C57', 'date': '2020년 8월 11일', 'like': '좋아요 8개', 'tag': ' 상무초밥'}, 14: {'picture': 'https://scontent-ssn1-1.cdninstagram.com/v/t51.2885-15/e35/p1080x1080/117765675_665176710763708_8391720411172667209_n.jpg?_nc_ht=scontent-ssn1-1.cdninstagram.com&_nc_cat=104&_nc_ohc=pNUmZxbTeb4AX9GcyP0&oh=9e797195e01ee4efc13a0f5f083d5534&oe=5F5C55E4', 'date': '2020년 8월 11일', 'like': '좋아요 5개', 'tag': ' 맛점'}, 15: {'picture': 'https://scontent-ssn1-1.cdninstagram.com/v/t51.2885-15/e35/117205941_726913021488913_3086419374476428550_n.jpg?_nc_ht=scontent-ssn1-1.cdninstagram.com&_nc_cat=101&_nc_ohc=R0weM9OkPqcAX_ivfAg&oh=0e0c96df38572acebf4cc659f76475e7&oe=5F5CFE75', 'date': '2020년 8월 11일', 'like': '좋아요 3개', 'tag': ' 선물 여친선물 보테가베네타 부츠 보테가 남친선물'}, 16: {'picture': 'https://scontent-ssn1-1.cdninstagram.com/v/t51.2885-15/e35/s1080x1080/117313307_534504273944996_5624252112068344032_n.jpg?_nc_ht=scontent-ssn1-1.cdninstagram.com&_nc_cat=108&_nc_ohc=SqSy5pur2BsAX8WplQX&oh=c210cd518a51fcef33774001b355105b&oe=5F5B5268', 'date': '2020년 8월 11일', 'like': '좋아요 2개', 'tag': ' 맛집스타그램 05년생 음식'}, 17: {'picture': 'https://scontent-ssn1-1.cdninstagram.com/v/t51.2885-15/e35/s1080x1080/117334016_202305431312477_2144107174529137527_n.jpg?_nc_ht=scontent-ssn1-1.cdninstagram.com&_nc_cat=105&_nc_ohc=oJmVQmyBdr8AX9VyAuy&oh=741c0e41028e9a561d9d1608f6af3b8a&oe=5F5A01B4', 'date': '2020년 8월 11일', 'like': '좋아요 12개', 'tag': ' 초당순두부 두부 순두부 두부전골 손두부 부드럽다 녹는다 덜담백 추천 강릉맛집 가볼만한맛집 내부 깔끔 정돈 먹스타그램 맛스타그램 음식 Food 좋반 좋아요반사 좋아요 눌러주세요 좋반가요 선팔환영 선팔맞팔'}, 18: {'picture': 'https://scontent-ssn1-1.cdninstagram.com/v/t51.2885-15/e35/117168786_2608599156136889_954298738554832435_n.jpg?_nc_ht=scontent-ssn1-1.cdninstagram.com&_nc_cat=105&_nc_ohc=dmZcLpYIOssAX83jSTW&oh=c5c1b95b1fd42afc46e28d699dac7a8d&oe=5F5CBB00', 'date': '2020년 8월 11일', 'like': '가장 먼저 \\n좋아요\\n를 눌러보세요', 'tag': ' 초당옥수수 마켓컬리 간식 푸드 음식 혼점 다이어트 옥수수'}, 19: {'picture': 'https://scontent-ssn1-1.cdninstagram.com/v/t51.2885-15/e35/s1080x1080/117312647_760152728134675_5582252500488136700_n.jpg?_nc_ht=scontent-ssn1-1.cdninstagram.com&_nc_cat=107&_nc_ohc=frW84HDG-o4AX9joQWB&oh=86bd8a4458e327bbf76573af8fb96203&oe=5F5BDFFC', 'date': '2020년 8월 11일', 'like': '좋아요 10개', 'tag': ' 밥상일기 버섯크림리조또 우니테이블'}}\n"
     ]
    }
   ],
   "source": [
    "for keyword in keywords:\n",
    "    dict = {}                                                       # 전체 데이터를 담을 딕셔너리 생성\n",
    "    # 사진 클릭\n",
    "    CSS_tran=\"div.Nnq7C.weEfm\"                         # 사진 버튼의 html element (\"div.Nnq7C.weEfm\")\n",
    "    tran_button = driver.find_element_by_css_selector(CSS_tran)     # 사진 버튼 찾기\n",
    "    AC(driver).move_to_element(tran_button).click().perform()       # 사진 버튼 클릭\n",
    "    time.sleep(1)\n",
    "\n",
    "    # 크롤링 시작\n",
    "    len_insta = 20   # 몇 개 글을 크롤링 할건지\n",
    "\n",
    "    for i in range(0, len_insta):    # range : 숫자가 1씩하는 함수\n",
    "\n",
    "        target_info = {}                                            # 사진별 데이터를 담을 딕셔너리 생성\n",
    "\n",
    "        try:    # 크롤링을 시도해라.\n",
    "            # 사진(pic) 크롤링 시작\n",
    "            overlays1 = \"._2dDPU.vCf6V .FFVAD\"                   # 사진창 속 사진의 html element (이때 띄어쓰기는 . 으로 표현된다, )   \n",
    "            img = driver.find_element_by_css_selector(overlays1)    # 사진 선택\n",
    "            pic = img.get_attribute('src')                          # get_attribute는 ()내의 글자가 지칭하고 있는 값을 html에서 불러와서 사용한다. 여기서는 사진의 src 주소를 html에서 불러와서 사용하고 있음.\n",
    "            target_info['picture'] = pic                            # target_info 라는 딕셔너리에 'picture'라는 key 값과 'src 주소'를 value 값으로 저장한다. \n",
    "            # print(target_info) \n",
    "\n",
    "            # 날짜(date) 크롤링 시작\n",
    "            overlays2 = \"._2dDPU.vCf6V .c-Yi7 > time\"                  # 날짜 지정\n",
    "            datum2 = driver.find_element_by_css_selector(overlays2)     # 날짜 선택\n",
    "            date = datum2.get_attribute('title')\n",
    "            target_info['date'] = date\n",
    "            # print(target_info)\n",
    "\n",
    "            # 좋아요(like) 크롤링 시작\n",
    "            overlays3 = \".Nm9Fw\"                                        # 좋아요 지정\n",
    "            datum3 = driver.find_element_by_css_selector(overlays3)     # 좋아요 선택\n",
    "            like = datum3.text                                          # 좋아요 크롤링 완료\n",
    "            target_info['like'] = like\n",
    "            # print(target_info)\n",
    "\n",
    "            # 해시태그(tag) 크롤링 시작\n",
    "            overlays4 = \".C7I1f.X7jCj\"                                  # 태그 지정\n",
    "            datum4 = driver.find_element_by_css_selector(overlays4)     # 태그 선택\n",
    "            tag_raw = datum4.text\n",
    "            tags = re.findall('#[A-Za-z0-9가-힣]+', tag_raw)            # \"javascript에서 사용하는 한글,숫자,영어의 정규표현식으로 #뒤의 문자를 가져오기 위해 사용\n",
    "            tag = ''.join(tags).replace(\"#\",\" \")                        # \"#\" 제거\n",
    "            target_info['tag'] = tag\n",
    "            # print(target_info)\n",
    "\n",
    "            dict[i] = target_info            # 토탈 딕셔너리로 만들기\n",
    "\n",
    "            print(\"{0}\".format(i), tag)      # 크롤링한글각각이dict에저장될때마다“몇번째글인지, 해당글의해시태그”를 출력하게 하여 진행상태를체크\n",
    "\n",
    "            # 다음장 클릭\n",
    "            hit=0\n",
    "            while hit < 1:                          # 몇 번에 한번씩 크롤링할 것인지 숫자 지정\n",
    "                hit+=1\n",
    "                CSS_tran2=\"a._65Bje.coreSpriteRightPaginationArrow\"             # 다음 버튼 정의\n",
    "                tran_button2 = driver.find_element_by_css_selector(CSS_tran2)  # 다음 버튼 find\n",
    "                AC(driver).move_to_element(tran_button2).click().perform()     # 다음 버튼 클릭\n",
    "                time.sleep(2)\n",
    "\n",
    "        except:  # 에러가 나면 다음장을 클릭해라\n",
    "            # 다음장 클릭\n",
    "            CSS_tran2=\"a._65Bje.coreSpriteRightPaginationArrow\"             # 다음 버튼 정의\n",
    "            tran_button2 = driver.find_element_by_css_selector(CSS_tran2)  # 다음 버튼 find\n",
    "            AC(driver).move_to_element(tran_button2).click().perform()     # 다음 버튼 클릭\n",
    "            time.sleep(2)\n",
    "\n",
    "    print(dict)\n",
    "\n",
    "    # 엑셀(테이블) 형식으로 만들기\n",
    "    result_df = pd.DataFrame.from_dict(dict, 'index')\n",
    "\n",
    "    n = result_df['picture'].count()\n",
    "\n",
    "    # csv 형식(엑셀이랑 비슷한 파일)으로 저장\n",
    "    result_df.to_csv(\"data/food({}).csv\".format(keyword), encoding='euc-kr')"
   ]
  },
  {
   "cell_type": "markdown",
   "metadata": {},
   "source": [
    "크롤링 할때 번호를 띄어넘는 것은 html element가 변경되었거나 읽히지 못한 경우 이기에 재확인 해서 입력. \n",
    "\n",
    "크롤링은 되었는데 해시태그가 되지 않는 경우 # 태그 량이 많아서 + 버튼에 가렸기에 # 를 띄어넘음."
   ]
  },
  {
   "cell_type": "code",
   "execution_count": 9,
   "metadata": {},
   "outputs": [
    {
     "data": {
      "text/plain": [
       "18"
      ]
     },
     "execution_count": 9,
     "metadata": {},
     "output_type": "execute_result"
    }
   ],
   "source": [
    "num_pic = len(result_df['picture'])  # 크롤링한 데이터 개수 확인\n",
    "num_pic"
   ]
  },
  {
   "cell_type": "code",
   "execution_count": 10,
   "metadata": {},
   "outputs": [],
   "source": [
    "# 이미지들 image 폴더에 다운받기\n",
    "import urllib.request\n",
    "\n",
    "for i in range(0, 20):\n",
    "    try:\n",
    "        index=result_df['picture'][i]\n",
    "        urllib.request.urlretrieve(index, \"image/food{0}_{1}.jpg\".format(date, i))        \n",
    "    except:\n",
    "        pass"
   ]
  }
 ],
 "metadata": {
  "kernelspec": {
   "display_name": "Python 3",
   "language": "python",
   "name": "python3"
  },
  "language_info": {
   "codemirror_mode": {
    "name": "ipython",
    "version": 3
   },
   "file_extension": ".py",
   "mimetype": "text/x-python",
   "name": "python",
   "nbconvert_exporter": "python",
   "pygments_lexer": "ipython3",
   "version": "3.8.3"
  }
 },
 "nbformat": 4,
 "nbformat_minor": 4
}
