{
 "cells": [
  {
   "cell_type": "markdown",
   "metadata": {},
   "source": [
    "# 인스타 그램 크롤링"
   ]
  },
  {
   "cell_type": "code",
   "execution_count": 1,
   "metadata": {},
   "outputs": [
    {
     "name": "stdout",
     "output_type": "stream",
     "text": [
      "Python 3.8.3\n"
     ]
    }
   ],
   "source": [
    "!python --version"
   ]
  },
  {
   "cell_type": "code",
   "execution_count": 2,
   "metadata": {
    "scrolled": true
   },
   "outputs": [
    {
     "data": {
      "text/plain": [
       "'C:\\\\Users\\\\USER\\\\Desktop\\\\python'"
      ]
     },
     "execution_count": 2,
     "metadata": {},
     "output_type": "execute_result"
    }
   ],
   "source": [
    "pwd  # 현재 작업하고 있는 위치 파악, "
   ]
  },
  {
   "cell_type": "markdown",
   "metadata": {},
   "source": [
    "실행시키는 파일 내부에 data(excel 저장 위치), image(크롤링한 그림 정장 위치) 폴더가 있어야 코드가 작동"
   ]
  },
  {
   "cell_type": "code",
   "execution_count": 3,
   "metadata": {},
   "outputs": [],
   "source": [
    "import pandas as pd  # 판다스 - 데이터프레임(엑셀)\n",
    "import numpy as np   # 넘파이 - 수학 연산"
   ]
  },
  {
   "cell_type": "code",
   "execution_count": 4,
   "metadata": {},
   "outputs": [],
   "source": [
    "# 라이브러리 import\n",
    "# 라이브러리 : 필요한 도구\n",
    "from selenium import webdriver  # 라이브러리(모듈) 가져오라\n",
    "from selenium.webdriver import ActionChains as AC\n",
    "from tqdm import tqdm\n",
    "from tqdm import tqdm_notebook\n",
    "import re\n",
    "from time import sleep\n",
    "import time"
   ]
  },
  {
   "cell_type": "code",
   "execution_count": 5,
   "metadata": {},
   "outputs": [
    {
     "data": {
      "text/plain": [
       "'음식'"
      ]
     },
     "execution_count": 5,
     "metadata": {},
     "output_type": "execute_result"
    }
   ],
   "source": [
    "# 데이터 수집할 키워드 지정\n",
    "keywords = [\"음식\"]\n",
    "keywords[0]"
   ]
  },
  {
   "cell_type": "code",
   "execution_count": 6,
   "metadata": {},
   "outputs": [],
   "source": [
    "# 크롬창 띄우기\n",
    "driver = webdriver.Chrome(\"C:/Users/USER/Desktop/python/chromedriver.exe\")  # 크롬 드라이버 로드\n",
    "driver.get(\"https://www.instagram.com/explore/tags/%EC%9D%8C%EC%8B%9D/\")  # \"인스타에서 음식\" 검색\n",
    "time.sleep(5)"
   ]
  },
  {
   "cell_type": "markdown",
   "metadata": {},
   "source": [
    "크롬에서 인스타를 띄웠을때 로그인을 해야함"
   ]
  },
  {
   "cell_type": "code",
   "execution_count": 7,
   "metadata": {},
   "outputs": [],
   "source": [
    "# ### html이 제대로 사용되었는지 따로 떼서 확인 해보기 ###\n",
    "\n",
    "# target_info = {}      \n",
    "\n",
    "# overlays1 = \"._2dDPU.vCf6V .FFVAD\"                   # 사진창 속 사진의 html element (이때 띄어쓰기는 . 으로 표현된다, )   \n",
    "# img = driver.find_element_by_css_selector(overlays1)    # 사진 선택\n",
    "# pic = img.get_attribute('src')                          # get_attribute는 ()내의 글자가 지칭하고 있는 값을 html에서 불러와서 사용한다. 여기서는 사진의 src 주소를 html에서 불러와서 사용하고 있음.\n",
    "# target_info['picture'] = pic                            # target_info 라는 딕셔너리에 'picture'라는 이름으로 저장\n",
    "# print(target_info)\n"
   ]
  },
  {
   "cell_type": "code",
   "execution_count": 8,
   "metadata": {},
   "outputs": [
    {
     "name": "stdout",
     "output_type": "stream",
     "text": [
      "0  새마을쫄면분식\n",
      "1  afuri instanoodle ramen l4l f4f fff tflers\n",
      "3 \n",
      "4 \n",
      "5 \n",
      "6  연어 온더테이블 홈카페 점심 일상 감성 일상스타그램 요리 먹스타그램 음식 사진 요리스타그램 다이어터 식단일기 다이어트 식단 다이어트식단 건강식 주말 daily homecooking foodstyling onthetable plating lunch salomon instafood healthyfood cooking avocado\n",
      "7  홈쿡 집밥 요리 푸드스타그램 메뉴 샘표로부터소정의적립금을받았습니다 음식 맛스타그램 새댁요리 디저트 비오는날 집스타그램 온더테이블 위드테이블 테이블 인테리어 연두 연두순 연두의집밥 onthetable homecook cooking table koreafood foodstagram foodie\n",
      "8  돼지고기 꽈리고추 foodstagram food instafood\n",
      "9  집밥 오징어초무침 노각오이무침 무침 요리 요리스타그램 음식 음식스타그램 쿡 쿡스타그램 먹방 먹스타그램 주부의삶\n",
      "10  nomnom feedfeed eeeeeats igersjp huffposttaste foodpost 홈쿡 먹스타그램 음식 맛스타그램 buzzfeedfood forkyeah 집밥 요리스타그램 냠냠 heresmyfood 맛있다 goodfood foodiegram 집밥스타그램 lovefood\n",
      "11 \n",
      "12  꼬막비빔밥 연안식당 먹스타그램 맛스타그램 먹방 음식 푸드스타그램 일상 점심\n",
      "13  광명 밤일마을 먹 먹스타 먹스타그램 맛 맛스타그램 맛스타 맛스타그램 먹방 먹방스타그램 먹방그램 먹방투어 맛집 맛집추천 맛집스타그램 맛집탐방 맛집인정 맛집투어 해장국 국밥 데일리 daily jmt 존맛탱 존맛 음식 음식스타그램 음식사진 하안동 경기도\n",
      "14  고기국수 가시아방 가시아방국수 서귀포맛집 올픽서귀포\n",
      "15  서울맛집 북촌맛집 삼청동맛집 블루보틀 블루보틀삼청점 삼청블루보틀 bluebottle 놀라플로트 먹스타그램 삼청동카페 서울신상카페 음식스타그램 먹방 맛집 맛집추천 맛집스타그램 음식 food foodstagram foodie daily kfood 먹스타그램\n",
      "16  집밥 갈치조림 감자 요리 요리스타그램 음식 음식스타그램 쿡 쿡스타그램 먹방 먹스타그램 주부의삶\n",
      "17  치킨 수제치킨 닭가슴살 튀겨먹기 퍽퍽살 부드럽게 빵가루 묻혀 튀기기 추천요리 레시피 꿀맛 먹스타그램 맛스타그램 음식 Food 좋아요 눌러주세요 좋반 좋아요반사 좋반가요 좋아요반사가요 소통 인친 소통해요 선팔하면맞팔가요 선팔맞팔\n",
      "18  fishermanotah otah sgUnited stayhomeforsg sg igsg singapore asian food sgfood foodporn foodie sgfooddiary cooking travel foodhunt foodart foodphotography foodblogger theartofplating foodplating plating culinary 음식 먹자 fish seafood\n",
      "19  성산맛집 성산 제주도 제주도맛집 제주공항근처맛집 성산일출봉 성산카페 성산일출봉맛집 맛스타그램 해물탕 해물찜 제주칼국수제주해물탕 성산핫플 제주도핫플 소통 맞팔 좋아요 좋아요그램 음식 먹방 해물탕먹방 맛집소통 선팔환영\n",
      "{0: {'picture': 'https://scontent-ssn1-1.cdninstagram.com/v/t51.2885-15/e35/s1080x1080/117170013_122038912642511_6850444355815075075_n.jpg?_nc_ht=scontent-ssn1-1.cdninstagram.com&_nc_cat=111&_nc_ohc=xpimPR4GVtAAX9tLlyz&oh=3b97ac885da1d5a93a66767f417aa022&oe=5F5B3726', 'date': '2020년 8월 10일', 'like': '좋아요 253개', 'tag': ' 새마을쫄면분식'}, 1: {'picture': 'https://scontent-ssn1-1.cdninstagram.com/v/t51.2885-15/e35/s1080x1080/117315282_332783927906030_1828057854773711336_n.jpg?_nc_ht=scontent-ssn1-1.cdninstagram.com&_nc_cat=102&_nc_ohc=9_xoXOY9s4IAX_7GFV6&oh=27e9be53337374568dc763e301ac318c&oe=5F5C2F2B', 'date': '2020년 8월 10일', 'like': '좋아요 118개', 'tag': ' afuri instanoodle ramen l4l f4f fff tflers'}, 3: {'picture': 'https://scontent-ssn1-1.cdninstagram.com/v/t51.2885-15/e35/s1080x1080/117431039_2683020498646386_5726010456783177975_n.jpg?_nc_ht=scontent-ssn1-1.cdninstagram.com&_nc_cat=106&_nc_ohc=dTy0nAHhAGsAX8vIj3V&oh=5da7f7e96eaf12ad1a3a1e56b5456aba&oe=5F5B9F8D', 'date': '2020년 8월 9일', 'like': '좋아요 817개', 'tag': ''}, 4: {'picture': 'https://scontent-ssn1-1.cdninstagram.com/v/t51.2885-15/e35/s1080x1080/117161215_780469256058309_8255439148728811196_n.jpg?_nc_ht=scontent-ssn1-1.cdninstagram.com&_nc_cat=109&_nc_ohc=_15hnx2qJRMAX_Mv7Q5&oh=ced58cf7231de03a46bfab0541990302&oe=5F5A58F8', 'date': '2020년 8월 9일', 'like': '좋아요 462개', 'tag': ''}, 5: {'picture': 'https://scontent-ssn1-1.cdninstagram.com/v/t51.2885-15/e35/s1080x1080/117224753_2781246085427220_8880790751602513056_n.jpg?_nc_ht=scontent-ssn1-1.cdninstagram.com&_nc_cat=100&_nc_ohc=S8xR8KaWYMYAX_66p_7&oh=41a53b164c4b912ffe01df6b3aa5c7e1&oe=5F5CDF63', 'date': '2020년 8월 10일', 'like': '좋아요 127개', 'tag': ''}, 6: {'picture': 'https://scontent-ssn1-1.cdninstagram.com/v/t51.2885-15/e35/s1080x1080/117393714_102879914836842_8427915203856959442_n.jpg?_nc_ht=scontent-ssn1-1.cdninstagram.com&_nc_cat=106&_nc_ohc=hTEeh_q92MUAX8gPdfp&oh=5c8f55004b761d316a9690d7242e98e6&oe=5F5CE26B', 'date': '2020년 8월 9일', 'like': '좋아요 479개', 'tag': ' 연어 온더테이블 홈카페 점심 일상 감성 일상스타그램 요리 먹스타그램 음식 사진 요리스타그램 다이어터 식단일기 다이어트 식단 다이어트식단 건강식 주말 daily homecooking foodstyling onthetable plating lunch salomon instafood healthyfood cooking avocado'}, 7: {'picture': 'https://scontent-ssn1-1.cdninstagram.com/v/t51.2885-15/e35/s1080x1080/117392461_909711262851109_8278045260535432594_n.jpg?_nc_ht=scontent-ssn1-1.cdninstagram.com&_nc_cat=101&_nc_ohc=kawnvYNGwH4AX-AeC-L&oh=049e6f02541ed7089a84f354aad55755&oe=5F5BB2B2', 'date': '2020년 8월 9일', 'like': '좋아요 1,082개', 'tag': ' 홈쿡 집밥 요리 푸드스타그램 메뉴 샘표로부터소정의적립금을받았습니다 음식 맛스타그램 새댁요리 디저트 비오는날 집스타그램 온더테이블 위드테이블 테이블 인테리어 연두 연두순 연두의집밥 onthetable homecook cooking table koreafood foodstagram foodie'}, 8: {'picture': 'https://scontent-ssn1-1.cdninstagram.com/v/t51.2885-15/e35/s1080x1080/117261839_602301987319401_5059474919949135573_n.jpg?_nc_ht=scontent-ssn1-1.cdninstagram.com&_nc_cat=109&_nc_ohc=IELSBVT4QIEAX-MJt6h&oh=7cf20ac3396640257358de9bc467b9a6&oe=5F5CDF2B', 'date': '2020년 8월 11일', 'like': '좋아요 3개', 'tag': ' 돼지고기 꽈리고추 foodstagram food instafood'}, 9: {'picture': 'https://scontent-ssn1-1.cdninstagram.com/v/t51.2885-15/e35/117394131_128267922295585_6934715180908867336_n.jpg?_nc_ht=scontent-ssn1-1.cdninstagram.com&_nc_cat=101&_nc_ohc=lGYlOdFgEE8AX-D86A5&oh=69c25fb5c9ab58a53737c243502b1d7e&oe=5F5A9E45', 'date': '2020년 8월 11일', 'like': '좋아요 4개', 'tag': ' 집밥 오징어초무침 노각오이무침 무침 요리 요리스타그램 음식 음식스타그램 쿡 쿡스타그램 먹방 먹스타그램 주부의삶'}, 10: {'picture': 'https://scontent-ssn1-1.cdninstagram.com/v/t51.2885-15/e35/117402745_151382006574284_2621933806392091239_n.jpg?_nc_ht=scontent-ssn1-1.cdninstagram.com&_nc_cat=108&_nc_ohc=wKNJzzclaaEAX-TSn3Y&oh=3ad53b411812fd6b51c29d17d8136152&oe=5F5D13F0', 'date': '2020년 8월 11일', 'like': '좋아요 2개', 'tag': ' nomnom feedfeed eeeeeats igersjp huffposttaste foodpost 홈쿡 먹스타그램 음식 맛스타그램 buzzfeedfood forkyeah 집밥 요리스타그램 냠냠 heresmyfood 맛있다 goodfood foodiegram 집밥스타그램 lovefood'}, 11: {'picture': 'https://scontent-ssn1-1.cdninstagram.com/v/t51.2885-15/e35/s1080x1080/117215906_974112153015163_421050009862181846_n.jpg?_nc_ht=scontent-ssn1-1.cdninstagram.com&_nc_cat=107&_nc_ohc=tshw0ClueqUAX8dbyTg&oh=ce84a6c84943fecf20fc026686f76809&oe=5F5CDAC8', 'date': '2020년 8월 11일', 'like': '좋아요 3개', 'tag': ''}, 12: {'picture': 'https://scontent-ssn1-1.cdninstagram.com/v/t51.2885-15/e35/s1080x1080/117397737_167169761547181_1854327571726953877_n.jpg?_nc_ht=scontent-ssn1-1.cdninstagram.com&_nc_cat=101&_nc_ohc=kCSB9U5gbPcAX9UiRof&oh=036a0765e24c2ee9bfe3bac8ef0eee2f&oe=5F5B736F', 'date': '2020년 8월 11일', 'like': '좋아요 7개', 'tag': ' 꼬막비빔밥 연안식당 먹스타그램 맛스타그램 먹방 음식 푸드스타그램 일상 점심'}, 13: {'picture': 'https://scontent-ssn1-1.cdninstagram.com/v/t51.2885-15/e35/s1080x1080/117293418_179154670277368_3277563917430822103_n.jpg?_nc_ht=scontent-ssn1-1.cdninstagram.com&_nc_cat=104&_nc_ohc=CUeB490C6JYAX9Yi6iw&oh=d0ea594f891bab835d1c1f9742d5ac41&oe=5F5BDD24', 'date': '2020년 8월 11일', 'like': '좋아요 13개', 'tag': ' 광명 밤일마을 먹 먹스타 먹스타그램 맛 맛스타그램 맛스타 맛스타그램 먹방 먹방스타그램 먹방그램 먹방투어 맛집 맛집추천 맛집스타그램 맛집탐방 맛집인정 맛집투어 해장국 국밥 데일리 daily jmt 존맛탱 존맛 음식 음식스타그램 음식사진 하안동 경기도'}, 14: {'picture': 'https://scontent-ssn1-1.cdninstagram.com/v/t51.2885-15/e35/s1080x1080/117253040_146814533759774_6189794424425156951_n.jpg?_nc_ht=scontent-ssn1-1.cdninstagram.com&_nc_cat=102&_nc_ohc=nliBGl9sVg8AX_9aRSS&oh=9a506cd7123e5a0d123a671dc0e75047&oe=5F5A90CC', 'date': '2020년 8월 11일', 'like': '좋아요 12개', 'tag': ' 고기국수 가시아방 가시아방국수 서귀포맛집 올픽서귀포'}, 15: {'picture': 'https://scontent-ssn1-1.cdninstagram.com/v/t51.2885-15/e35/s1080x1080/117235640_197090335166845_6678431243685765592_n.jpg?_nc_ht=scontent-ssn1-1.cdninstagram.com&_nc_cat=101&_nc_ohc=asE_BqqevfwAX9wd1M4&oh=939954c30b869f84f61f6f24cbe26850&oe=5F5C88C0', 'date': '2020년 8월 11일', 'like': '좋아요 2개', 'tag': ' 서울맛집 북촌맛집 삼청동맛집 블루보틀 블루보틀삼청점 삼청블루보틀 bluebottle 놀라플로트 먹스타그램 삼청동카페 서울신상카페 음식스타그램 먹방 맛집 맛집추천 맛집스타그램 음식 food foodstagram foodie daily kfood 먹스타그램'}, 16: {'picture': 'https://scontent-ssn1-1.cdninstagram.com/v/t51.2885-15/e35/117235160_1960314784269886_2035653795841551466_n.jpg?_nc_ht=scontent-ssn1-1.cdninstagram.com&_nc_cat=110&_nc_ohc=ElffnJwSucsAX9mRIXX&oh=afba8552f538a6833d906e3579457f2f&oe=5F5C2C2F', 'date': '2020년 8월 11일', 'like': '좋아요 6개', 'tag': ' 집밥 갈치조림 감자 요리 요리스타그램 음식 음식스타그램 쿡 쿡스타그램 먹방 먹스타그램 주부의삶'}, 17: {'picture': 'https://scontent-ssn1-1.cdninstagram.com/v/t51.2885-15/e35/117317356_109695330744335_4649510107524114970_n.jpg?_nc_ht=scontent-ssn1-1.cdninstagram.com&_nc_cat=111&_nc_ohc=IpRN0tfFMakAX8sMnXh&oh=75018c26a5be2c93219b23afc01c6ed5&oe=5F59A566', 'date': '2020년 8월 11일', 'like': '좋아요 4개', 'tag': ' 치킨 수제치킨 닭가슴살 튀겨먹기 퍽퍽살 부드럽게 빵가루 묻혀 튀기기 추천요리 레시피 꿀맛 먹스타그램 맛스타그램 음식 Food 좋아요 눌러주세요 좋반 좋아요반사 좋반가요 좋아요반사가요 소통 인친 소통해요 선팔하면맞팔가요 선팔맞팔'}, 18: {'picture': 'https://scontent-ssn1-1.cdninstagram.com/v/t51.2885-15/e35/p1080x1080/117184117_630650040959270_9118762071131228736_n.jpg?_nc_ht=scontent-ssn1-1.cdninstagram.com&_nc_cat=102&_nc_ohc=S-h2Z8RXZv8AX-68yZE&oh=98bb54bbef90834b1766802c914e025b&oe=5F5B06FC', 'date': '2020년 8월 11일', 'like': '좋아요 1개', 'tag': ' fishermanotah otah sgUnited stayhomeforsg sg igsg singapore asian food sgfood foodporn foodie sgfooddiary cooking travel foodhunt foodart foodphotography foodblogger theartofplating foodplating plating culinary 음식 먹자 fish seafood'}, 19: {'picture': 'https://scontent-ssn1-1.cdninstagram.com/v/t51.2885-15/e35/117184708_768214204007256_7744084522920377563_n.jpg?_nc_ht=scontent-ssn1-1.cdninstagram.com&_nc_cat=100&_nc_ohc=M9wQLgBjWksAX84U6t0&oh=d6792073d5de0bc17e5eeb99172e93de&oe=5F5A43B7', 'date': '2020년 8월 11일', 'like': '좋아요 3개', 'tag': ' 성산맛집 성산 제주도 제주도맛집 제주공항근처맛집 성산일출봉 성산카페 성산일출봉맛집 맛스타그램 해물탕 해물찜 제주칼국수제주해물탕 성산핫플 제주도핫플 소통 맞팔 좋아요 좋아요그램 음식 먹방 해물탕먹방 맛집소통 선팔환영'}}\n"
     ]
    },
    {
     "ename": "PermissionError",
     "evalue": "[Errno 13] Permission denied: 'data/food(음식).csv'",
     "output_type": "error",
     "traceback": [
      "\u001b[1;31m---------------------------------------------------------------------------\u001b[0m",
      "\u001b[1;31mPermissionError\u001b[0m                           Traceback (most recent call last)",
      "\u001b[1;32m<ipython-input-8-de784ae708dd>\u001b[0m in \u001b[0;36m<module>\u001b[1;34m\u001b[0m\n\u001b[0;32m     73\u001b[0m \u001b[1;33m\u001b[0m\u001b[0m\n\u001b[0;32m     74\u001b[0m     \u001b[1;31m# csv 형식(엑셀이랑 비슷한 파일)으로 저장\u001b[0m\u001b[1;33m\u001b[0m\u001b[1;33m\u001b[0m\u001b[1;33m\u001b[0m\u001b[0m\n\u001b[1;32m---> 75\u001b[1;33m     \u001b[0mresult_df\u001b[0m\u001b[1;33m.\u001b[0m\u001b[0mto_csv\u001b[0m\u001b[1;33m(\u001b[0m\u001b[1;34m\"data/food({}).csv\"\u001b[0m\u001b[1;33m.\u001b[0m\u001b[0mformat\u001b[0m\u001b[1;33m(\u001b[0m\u001b[0mkeyword\u001b[0m\u001b[1;33m)\u001b[0m\u001b[1;33m,\u001b[0m \u001b[0mencoding\u001b[0m\u001b[1;33m=\u001b[0m\u001b[1;34m'euc-kr'\u001b[0m\u001b[1;33m)\u001b[0m\u001b[1;33m\u001b[0m\u001b[1;33m\u001b[0m\u001b[0m\n\u001b[0m",
      "\u001b[1;32mC:\\ProgramData\\Anaconda3\\lib\\site-packages\\pandas\\core\\generic.py\u001b[0m in \u001b[0;36mto_csv\u001b[1;34m(self, path_or_buf, sep, na_rep, float_format, columns, header, index, index_label, mode, encoding, compression, quoting, quotechar, line_terminator, chunksize, date_format, doublequote, escapechar, decimal)\u001b[0m\n\u001b[0;32m   3202\u001b[0m             \u001b[0mdecimal\u001b[0m\u001b[1;33m=\u001b[0m\u001b[0mdecimal\u001b[0m\u001b[1;33m,\u001b[0m\u001b[1;33m\u001b[0m\u001b[1;33m\u001b[0m\u001b[0m\n\u001b[0;32m   3203\u001b[0m         )\n\u001b[1;32m-> 3204\u001b[1;33m         \u001b[0mformatter\u001b[0m\u001b[1;33m.\u001b[0m\u001b[0msave\u001b[0m\u001b[1;33m(\u001b[0m\u001b[1;33m)\u001b[0m\u001b[1;33m\u001b[0m\u001b[1;33m\u001b[0m\u001b[0m\n\u001b[0m\u001b[0;32m   3205\u001b[0m \u001b[1;33m\u001b[0m\u001b[0m\n\u001b[0;32m   3206\u001b[0m         \u001b[1;32mif\u001b[0m \u001b[0mpath_or_buf\u001b[0m \u001b[1;32mis\u001b[0m \u001b[1;32mNone\u001b[0m\u001b[1;33m:\u001b[0m\u001b[1;33m\u001b[0m\u001b[1;33m\u001b[0m\u001b[0m\n",
      "\u001b[1;32mC:\\ProgramData\\Anaconda3\\lib\\site-packages\\pandas\\io\\formats\\csvs.py\u001b[0m in \u001b[0;36msave\u001b[1;34m(self)\u001b[0m\n\u001b[0;32m    182\u001b[0m             \u001b[0mclose\u001b[0m \u001b[1;33m=\u001b[0m \u001b[1;32mFalse\u001b[0m\u001b[1;33m\u001b[0m\u001b[1;33m\u001b[0m\u001b[0m\n\u001b[0;32m    183\u001b[0m         \u001b[1;32melse\u001b[0m\u001b[1;33m:\u001b[0m\u001b[1;33m\u001b[0m\u001b[1;33m\u001b[0m\u001b[0m\n\u001b[1;32m--> 184\u001b[1;33m             f, handles = get_handle(\n\u001b[0m\u001b[0;32m    185\u001b[0m                 \u001b[0mself\u001b[0m\u001b[1;33m.\u001b[0m\u001b[0mpath_or_buf\u001b[0m\u001b[1;33m,\u001b[0m\u001b[1;33m\u001b[0m\u001b[1;33m\u001b[0m\u001b[0m\n\u001b[0;32m    186\u001b[0m                 \u001b[0mself\u001b[0m\u001b[1;33m.\u001b[0m\u001b[0mmode\u001b[0m\u001b[1;33m,\u001b[0m\u001b[1;33m\u001b[0m\u001b[1;33m\u001b[0m\u001b[0m\n",
      "\u001b[1;32mC:\\ProgramData\\Anaconda3\\lib\\site-packages\\pandas\\io\\common.py\u001b[0m in \u001b[0;36mget_handle\u001b[1;34m(path_or_buf, mode, encoding, compression, memory_map, is_text)\u001b[0m\n\u001b[0;32m    426\u001b[0m         \u001b[1;32mif\u001b[0m \u001b[0mencoding\u001b[0m\u001b[1;33m:\u001b[0m\u001b[1;33m\u001b[0m\u001b[1;33m\u001b[0m\u001b[0m\n\u001b[0;32m    427\u001b[0m             \u001b[1;31m# Encoding\u001b[0m\u001b[1;33m\u001b[0m\u001b[1;33m\u001b[0m\u001b[1;33m\u001b[0m\u001b[0m\n\u001b[1;32m--> 428\u001b[1;33m             \u001b[0mf\u001b[0m \u001b[1;33m=\u001b[0m \u001b[0mopen\u001b[0m\u001b[1;33m(\u001b[0m\u001b[0mpath_or_buf\u001b[0m\u001b[1;33m,\u001b[0m \u001b[0mmode\u001b[0m\u001b[1;33m,\u001b[0m \u001b[0mencoding\u001b[0m\u001b[1;33m=\u001b[0m\u001b[0mencoding\u001b[0m\u001b[1;33m,\u001b[0m \u001b[0mnewline\u001b[0m\u001b[1;33m=\u001b[0m\u001b[1;34m\"\"\u001b[0m\u001b[1;33m)\u001b[0m\u001b[1;33m\u001b[0m\u001b[1;33m\u001b[0m\u001b[0m\n\u001b[0m\u001b[0;32m    429\u001b[0m         \u001b[1;32melif\u001b[0m \u001b[0mis_text\u001b[0m\u001b[1;33m:\u001b[0m\u001b[1;33m\u001b[0m\u001b[1;33m\u001b[0m\u001b[0m\n\u001b[0;32m    430\u001b[0m             \u001b[1;31m# No explicit encoding\u001b[0m\u001b[1;33m\u001b[0m\u001b[1;33m\u001b[0m\u001b[1;33m\u001b[0m\u001b[0m\n",
      "\u001b[1;31mPermissionError\u001b[0m: [Errno 13] Permission denied: 'data/food(음식).csv'"
     ]
    }
   ],
   "source": [
    "for keyword in keywords:\n",
    "    dict = {}                                                       # 전체 데이터를 담을 딕셔너리 생성\n",
    "    # 사진 클릭\n",
    "    CSS_tran=\"div.Nnq7C.weEfm\"                         # 사진 버튼의 html element (\"div.Nnq7C.weEfm\")\n",
    "    tran_button = driver.find_element_by_css_selector(CSS_tran)     # 사진 버튼 찾기\n",
    "    AC(driver).move_to_element(tran_button).click().perform()       # 사진 버튼 클릭\n",
    "    time.sleep(1)\n",
    "\n",
    "    # 크롤링 시작\n",
    "    len_insta = 20   # 몇 개 글을 크롤링 할건지\n",
    "\n",
    "    for i in range(0, len_insta):    # range : 숫자가 1씩하는 함수\n",
    "\n",
    "        target_info = {}                                            # 사진별 데이터를 담을 딕셔너리 생성\n",
    "\n",
    "        try:    # 크롤링을 시도해라.\n",
    "            # 사진(pic) 크롤링 시작\n",
    "            overlays1 = \"._2dDPU.vCf6V .FFVAD\"                   # 사진창 속 사진의 html element (이때 띄어쓰기는 . 으로 표현된다, )   \n",
    "            img = driver.find_element_by_css_selector(overlays1)    # 사진 선택\n",
    "            pic = img.get_attribute('src')                          # get_attribute는 ()내의 글자가 지칭하고 있는 값을 html에서 불러와서 사용한다. 여기서는 사진의 src 주소를 html에서 불러와서 사용하고 있음.\n",
    "            target_info['picture'] = pic                            # target_info 라는 딕셔너리에 'picture'라는 key 값과 'src 주소'를 value 값으로 저장한다. \n",
    "            # print(target_info) \n",
    "\n",
    "            # 날짜(date) 크롤링 시작\n",
    "            overlays2 = \"._2dDPU.vCf6V .c-Yi7 > time\"                  # 날짜 지정\n",
    "            datum2 = driver.find_element_by_css_selector(overlays2)     # 날짜 선택\n",
    "            date = datum2.get_attribute('title')\n",
    "            target_info['date'] = date\n",
    "            # print(target_info)\n",
    "\n",
    "            # 좋아요(like) 크롤링 시작\n",
    "            overlays3 = \".Nm9Fw\"                                        # 좋아요 지정\n",
    "            datum3 = driver.find_element_by_css_selector(overlays3)     # 좋아요 선택\n",
    "            like = datum3.text                                          # 좋아요 크롤링 완료\n",
    "            target_info['like'] = like\n",
    "            # print(target_info)\n",
    "\n",
    "            # 해시태그(tag) 크롤링 시작\n",
    "            overlays4 = \".C7I1f.X7jCj\"                                  # 태그 지정\n",
    "            datum4 = driver.find_element_by_css_selector(overlays4)     # 태그 선택\n",
    "            tag_raw = datum4.text\n",
    "            tags = re.findall('#[A-Za-z0-9가-힣]+', tag_raw)            # \"javascript에서 사용하는 한글,숫자,영어의 정규표현식으로 #뒤의 문자를 가져오기 위해 사용\n",
    "            tag = ''.join(tags).replace(\"#\",\" \")                        # \"#\" 제거\n",
    "            target_info['tag'] = tag\n",
    "            # print(target_info)\n",
    "\n",
    "            dict[i] = target_info            # 토탈 딕셔너리로 만들기\n",
    "\n",
    "            print(\"{0}\".format(i), tag)      # 크롤링한글각각이dict에저장될때마다“몇번째글인지, 해당글의해시태그”를 출력하게 하여 진행상태를체크\n",
    "\n",
    "            # 다음장 클릭\n",
    "            hit=0\n",
    "            while hit < 1:                          # 몇 번에 한번씩 크롤링할 것인지 숫자 지정\n",
    "                hit+=1\n",
    "                CSS_tran2=\"a._65Bje.coreSpriteRightPaginationArrow\"             # 다음 버튼 정의\n",
    "                tran_button2 = driver.find_element_by_css_selector(CSS_tran2)  # 다음 버튼 find\n",
    "                AC(driver).move_to_element(tran_button2).click().perform()     # 다음 버튼 클릭\n",
    "                time.sleep(2)\n",
    "\n",
    "        except:  # 에러가 나면 다음장을 클릭해라\n",
    "            # 다음장 클릭\n",
    "            CSS_tran2=\"a._65Bje.coreSpriteRightPaginationArrow\"             # 다음 버튼 정의\n",
    "            tran_button2 = driver.find_element_by_css_selector(CSS_tran2)  # 다음 버튼 find\n",
    "            AC(driver).move_to_element(tran_button2).click().perform()     # 다음 버튼 클릭\n",
    "            time.sleep(2)\n",
    "\n",
    "    print(dict)\n",
    "\n",
    "    # 엑셀(테이블) 형식으로 만들기\n",
    "    result_df = pd.DataFrame.from_dict(dict, 'index')\n",
    "\n",
    "    n = result_df['picture'].count()\n",
    "\n",
    "    # csv 형식(엑셀이랑 비슷한 파일)으로 저장\n",
    "    result_df.to_csv(\"data/food({}).csv\".format(keyword), encoding='euc-kr')"
   ]
  },
  {
   "cell_type": "markdown",
   "metadata": {},
   "source": [
    "크롤링 할때 번호를 띄어넘는 것은 html element가 변경되었거나 읽히지 못한 경우 이기에 재확인 해서 입력. \n",
    "\n",
    "크롤링은 되었는데 해시태그가 되지 않는 경우 # 태그 량이 많아서 + 버튼에 가렸기에 # 를 띄어넘음."
   ]
  },
  {
   "cell_type": "code",
   "execution_count": 9,
   "metadata": {},
   "outputs": [
    {
     "data": {
      "text/plain": [
       "19"
      ]
     },
     "execution_count": 9,
     "metadata": {},
     "output_type": "execute_result"
    }
   ],
   "source": [
    "num_pic = len(result_df['picture'])  # 크롤링한 데이터 개수 확인\n",
    "num_pic"
   ]
  },
  {
   "cell_type": "code",
   "execution_count": 10,
   "metadata": {},
   "outputs": [],
   "source": [
    "# 이미지들 image 폴더에 다운받기\n",
    "import urllib.request\n",
    "\n",
    "for i in range(0, 20):\n",
    "    try:\n",
    "        index=result_df['picture'][i]\n",
    "        urllib.request.urlretrieve(index, \"image/food{0}_{1}.jpg\".format(date, i))        \n",
    "    except:\n",
    "        pass"
   ]
  }
 ],
 "metadata": {
  "kernelspec": {
   "display_name": "Python 3",
   "language": "python",
   "name": "python3"
  },
  "language_info": {
   "codemirror_mode": {
    "name": "ipython",
    "version": 3
   },
   "file_extension": ".py",
   "mimetype": "text/x-python",
   "name": "python",
   "nbconvert_exporter": "python",
   "pygments_lexer": "ipython3",
   "version": "3.8.3"
  }
 },
 "nbformat": 4,
 "nbformat_minor": 4
}
